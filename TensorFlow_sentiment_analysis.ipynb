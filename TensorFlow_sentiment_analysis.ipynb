{
  "nbformat": 4,
  "nbformat_minor": 0,
  "metadata": {
    "colab": {
      "name": "TensorFlow sentiment analysis.ipynb",
      "provenance": [],
      "collapsed_sections": [],
      "toc_visible": true
    },
    "kernelspec": {
      "name": "python3",
      "display_name": "Python 3"
    },
    "language_info": {
      "name": "python"
    },
    "accelerator": "GPU"
  },
  "cells": [
    {
      "cell_type": "code",
      "metadata": {
        "id": "qKMDntJgDTZJ"
      },
      "source": [
        "#!unzip /content/drive/MyDrive/MyShares/amazon_food_reviews/amazonfoodreviews.zip -d /content/drive/MyDrive/MyShares/amazon_food_reviews"
      ],
      "execution_count": 1,
      "outputs": []
    },
    {
      "cell_type": "code",
      "metadata": {
        "id": "pIOIecwVMQ-g"
      },
      "source": [
        "import tensorflow as tf\n",
        "import pandas as pd\n",
        "import numpy as np\n",
        "import tensorflow_hub as hub\n",
        "import os\n",
        "import time"
      ],
      "execution_count": 2,
      "outputs": []
    },
    {
      "cell_type": "code",
      "metadata": {
        "colab": {
          "base_uri": "https://localhost:8080/"
        },
        "id": "sUtzbQqNOYDt",
        "outputId": "f661fefa-4a5e-449b-b952-ed61fa90faf5"
      },
      "source": [
        "data = pd.read_csv('/content/drive/MyDrive/MyShares/amazon_food_reviews/Reviews.csv')\n",
        "data.info()"
      ],
      "execution_count": 3,
      "outputs": [
        {
          "output_type": "stream",
          "text": [
            "<class 'pandas.core.frame.DataFrame'>\n",
            "RangeIndex: 568454 entries, 0 to 568453\n",
            "Data columns (total 10 columns):\n",
            " #   Column                  Non-Null Count   Dtype \n",
            "---  ------                  --------------   ----- \n",
            " 0   Id                      568454 non-null  int64 \n",
            " 1   ProductId               568454 non-null  object\n",
            " 2   UserId                  568454 non-null  object\n",
            " 3   ProfileName             568438 non-null  object\n",
            " 4   HelpfulnessNumerator    568454 non-null  int64 \n",
            " 5   HelpfulnessDenominator  568454 non-null  int64 \n",
            " 6   Score                   568454 non-null  int64 \n",
            " 7   Time                    568454 non-null  int64 \n",
            " 8   Summary                 568427 non-null  object\n",
            " 9   Text                    568454 non-null  object\n",
            "dtypes: int64(5), object(5)\n",
            "memory usage: 43.4+ MB\n"
          ],
          "name": "stdout"
        }
      ]
    },
    {
      "cell_type": "code",
      "metadata": {
        "id": "UtqRzI1MOmMX"
      },
      "source": [
        "# we only need just two columns the text as feature and score as the label\n",
        "\n",
        "data = data[['Text' , 'Score']]\n",
        "data = data.sample(frac=1 , random_state=42).reset_index(drop=True)"
      ],
      "execution_count": 4,
      "outputs": []
    },
    {
      "cell_type": "code",
      "metadata": {
        "colab": {
          "base_uri": "https://localhost:8080/"
        },
        "id": "PLAuoqyVQDkX",
        "outputId": "833a2406-5cb9-400a-fa5d-fe2cd5cedc11"
      },
      "source": [
        "# we will take 10% of the data as test\n",
        "test_split_size = int(len(data['Text']) * 0.1)\n",
        "test_data = data.iloc[:test_split_size , :]\n",
        "train_data = data.iloc[test_split_size: , :]\n",
        "print(test_data.head())"
      ],
      "execution_count": 5,
      "outputs": [
        {
          "output_type": "stream",
          "text": [
            "                                                Text  Score\n",
            "0  Having tried a couple of other brands of glute...      5\n",
            "1  My cat loves these treats. If ever I can't fin...      5\n",
            "2  A little less than I expected.  It tends to ha...      3\n",
            "3  First there was Frosted Mini-Wheats, in origin...      2\n",
            "4  and I want to congratulate the graphic artist ...      5\n"
          ],
          "name": "stdout"
        }
      ]
    },
    {
      "cell_type": "code",
      "metadata": {
        "id": "LuaOteRXQF7q"
      },
      "source": [
        "def process_data(dataF, num_samples = 100):\n",
        "  dataF = dataF[:num_samples]\n",
        "  texts = dataF['Text'].tolist()\n",
        "  texts = [str(i).encode('ascii' , 'replace') for i in texts]\n",
        "  texts = np.array(texts , dtype=object)[:]\n",
        "\n",
        "  labels = dataF['Score'].tolist()\n",
        "  labels = [1 if i>=4 else 0 if i==3 else -1 for i in labels]\n",
        "  labels = np.array(pd.get_dummies(labels) , dtype=int)[:]\n",
        "\n",
        "  return texts , labels"
      ],
      "execution_count": 6,
      "outputs": []
    },
    {
      "cell_type": "code",
      "metadata": {
        "colab": {
          "base_uri": "https://localhost:8080/"
        },
        "id": "3x8nYHubUX31",
        "outputId": "f14712e2-27d0-409a-f4cc-a66a0a0aa1bb"
      },
      "source": [
        "texts , labels = process_data(train_data)\n",
        "\n",
        "print(len(texts))\n",
        "print(texts.shape)"
      ],
      "execution_count": 7,
      "outputs": [
        {
          "output_type": "stream",
          "text": [
            "100\n",
            "(100,)\n"
          ],
          "name": "stdout"
        }
      ]
    },
    {
      "cell_type": "markdown",
      "metadata": {
        "id": "25bRlSlxWaPe"
      },
      "source": [
        "#building the classification model using tf hub"
      ]
    },
    {
      "cell_type": "code",
      "metadata": {
        "id": "uoS4hQycWlAi"
      },
      "source": [
        "def get_model():\n",
        "  hub_layer = hub.KerasLayer(\"https://tfhub.dev/google/nnlm-en-dim50/2\",\n",
        "                           input_shape=[], dtype=tf.string , trainable = False , name = 'input')\n",
        "  \n",
        "  model = tf.keras.Sequential()\n",
        "  model.add(hub_layer)\n",
        "  model.add(tf.keras.layers.Dense(16 , activation = 'relu'))\n",
        "  model.add(tf.keras.layers.Dense(3 , activation = 'softmax', name = 'out'))\n",
        "  \n",
        "  model.compile(optimizer = 'adam' , loss = 'categorical_crossentropy' , metrics = ['accuracy'])\n",
        "\n",
        "  model.summary()\n",
        "\n",
        "  return model\n"
      ],
      "execution_count": 8,
      "outputs": []
    },
    {
      "cell_type": "code",
      "metadata": {
        "colab": {
          "base_uri": "https://localhost:8080/"
        },
        "id": "6A1cABPgtf8A",
        "outputId": "6569492d-1bfb-4ab2-cadb-77e1d239bc33"
      },
      "source": [
        "model = get_model()"
      ],
      "execution_count": 9,
      "outputs": [
        {
          "output_type": "stream",
          "text": [
            "Model: \"sequential\"\n",
            "_________________________________________________________________\n",
            "Layer (type)                 Output Shape              Param #   \n",
            "=================================================================\n",
            "input (KerasLayer)           (None, 50)                48190600  \n",
            "_________________________________________________________________\n",
            "dense (Dense)                (None, 16)                816       \n",
            "_________________________________________________________________\n",
            "out (Dense)                  (None, 3)                 51        \n",
            "=================================================================\n",
            "Total params: 48,191,467\n",
            "Trainable params: 867\n",
            "Non-trainable params: 48,190,600\n",
            "_________________________________________________________________\n"
          ],
          "name": "stdout"
        }
      ]
    },
    {
      "cell_type": "code",
      "metadata": {
        "colab": {
          "base_uri": "https://localhost:8080/"
        },
        "id": "7R4Drdo5ti82",
        "outputId": "76ffbd62-eeb8-4645-8e78-ea5fb591c79a"
      },
      "source": [
        "embed = hub.load(\"https://tfhub.dev/google/nnlm-en-dim50/2\")\n",
        "embeddings = embed([\"cat is on the mat\", \"dog is in the fog\"])\n",
        "embeddings"
      ],
      "execution_count": 10,
      "outputs": [
        {
          "output_type": "stream",
          "text": [
            "WARNING:tensorflow:5 out of the last 5 calls to <function recreate_function.<locals>.restored_function_body at 0x7efc16c3de60> triggered tf.function retracing. Tracing is expensive and the excessive number of tracings could be due to (1) creating @tf.function repeatedly in a loop, (2) passing tensors with different shapes, (3) passing Python objects instead of tensors. For (1), please define your @tf.function outside of the loop. For (2), @tf.function has experimental_relax_shapes=True option that relaxes argument shapes that can avoid unnecessary retracing. For (3), please refer to https://www.tensorflow.org/guide/function#controlling_retracing and https://www.tensorflow.org/api_docs/python/tf/function for  more details.\n"
          ],
          "name": "stdout"
        },
        {
          "output_type": "stream",
          "text": [
            "WARNING:tensorflow:5 out of the last 5 calls to <function recreate_function.<locals>.restored_function_body at 0x7efc16c3de60> triggered tf.function retracing. Tracing is expensive and the excessive number of tracings could be due to (1) creating @tf.function repeatedly in a loop, (2) passing tensors with different shapes, (3) passing Python objects instead of tensors. For (1), please define your @tf.function outside of the loop. For (2), @tf.function has experimental_relax_shapes=True option that relaxes argument shapes that can avoid unnecessary retracing. For (3), please refer to https://www.tensorflow.org/guide/function#controlling_retracing and https://www.tensorflow.org/api_docs/python/tf/function for  more details.\n"
          ],
          "name": "stderr"
        },
        {
          "output_type": "execute_result",
          "data": {
            "text/plain": [
              "<tf.Tensor: shape=(2, 50), dtype=float32, numpy=\n",
              "array([[ 0.16589954,  0.0254965 ,  0.1574857 ,  0.17688066,  0.02911299,\n",
              "        -0.03092718,  0.19445257, -0.05709129, -0.08631689, -0.04391516,\n",
              "         0.13032274,  0.10905275, -0.08515751,  0.01056632, -0.17220995,\n",
              "        -0.17925954,  0.19556305,  0.0802278 , -0.03247919, -0.49176937,\n",
              "        -0.07767699, -0.03160921, -0.13952136,  0.05959712,  0.06858718,\n",
              "         0.22386682, -0.16653948,  0.19412343, -0.05491862,  0.10997339,\n",
              "        -0.15811177, -0.02576607, -0.07910853, -0.258499  , -0.04206644,\n",
              "        -0.20052543,  0.1705603 , -0.15314153,  0.0039225 , -0.28694248,\n",
              "         0.02468278,  0.11069503,  0.03733957,  0.01433943, -0.11048374,\n",
              "         0.11931834, -0.11552787, -0.11110869,  0.02384969, -0.07074881],\n",
              "       [ 0.1437864 ,  0.08291595,  0.10897306,  0.04464385, -0.03630389,\n",
              "        -0.12605834,  0.20263346,  0.12862863, -0.07873426, -0.01195358,\n",
              "         0.0020956 , -0.03080653, -0.08019945, -0.18797135, -0.11973457,\n",
              "        -0.26926652,  0.05157408, -0.15541205, -0.12221853, -0.27182642,\n",
              "         0.08750801, -0.05013347,  0.03012378,  0.2053423 ,  0.10000334,\n",
              "         0.18292566, -0.18280756,  0.0780353 ,  0.10936535, -0.10147726,\n",
              "        -0.19995196,  0.0398768 , -0.15377024, -0.1095404 , -0.18498933,\n",
              "        -0.15899731,  0.0558111 ,  0.15251887,  0.02046264, -0.25878936,\n",
              "        -0.13057052,  0.0782799 ,  0.04044291,  0.14456013,  0.00264394,\n",
              "         0.1399635 , -0.04803645, -0.17253871, -0.03153546,  0.09077   ]],\n",
              "      dtype=float32)>"
            ]
          },
          "metadata": {
            "tags": []
          },
          "execution_count": 10
        }
      ]
    },
    {
      "cell_type": "markdown",
      "metadata": {
        "id": "QpNpqU-ly0VK"
      },
      "source": [
        "# train and export the model"
      ]
    },
    {
      "cell_type": "code",
      "metadata": {
        "id": "DRtAUeVGtwxF"
      },
      "source": [
        "x_train , y_train = process_data(train_data , num_samples=100000)\n",
        "\n",
        "x_val , y_val = process_data(test_data , num_samples=10000)"
      ],
      "execution_count": 11,
      "outputs": []
    },
    {
      "cell_type": "code",
      "metadata": {
        "id": "JXZJUsqkpwPL"
      },
      "source": [
        "def train():\n",
        "\n",
        "  model = get_model()\n",
        "\n",
        "  model.fit(x_train , y_train , verbose = 1 ,\n",
        "            epochs = 5 ,\n",
        "            batch_size=128 ,\n",
        "            validation_data=(x_val , y_val),\n",
        "            callbacks = [tf.keras.callbacks.ModelCheckpoint('/content/drive/MyDrive/MyShares/amazon_food_reviews/model_ckp',\n",
        "                        monitor = 'val_loss' , save_best_model = True,\n",
        "                        save_weights_only = False , verbose = 1 , mode= 'min')]\n",
        "            )\n",
        "  return model"
      ],
      "execution_count": 12,
      "outputs": []
    },
    {
      "cell_type": "code",
      "metadata": {
        "id": "PHsSuvmOr4Bk"
      },
      "source": [
        "\n",
        "def export_model(model , base_path ='/content/drive/MyDrive/MyShares/amazon_food_reviews'):\n",
        "  model_path = os.path.join(base_path , str(int(time.time())))\n",
        "  tf.saved_model.save(model , model_path)\n",
        "   \n",
        "# this code will run only in the main script , mean will not work when this script is imported\n",
        "if __name__ == '__main__':\n",
        "  model = train()\n",
        "  export_model(model)\n"
      ],
      "execution_count": null,
      "outputs": []
    },
    {
      "cell_type": "markdown",
      "metadata": {
        "id": "PA6UuuFiy9XC"
      },
      "source": [
        "#test the model"
      ]
    },
    {
      "cell_type": "code",
      "metadata": {
        "colab": {
          "base_uri": "https://localhost:8080/"
        },
        "id": "pzoHvCSLy-yP",
        "outputId": "f296642c-03b3-4aee-b304-da93a2792ce8"
      },
      "source": [
        "sents = ['terrifying match','awesome movie' , 'happy holiday']\n",
        "for sent in sents:\n",
        "  print(model.predict([sent]))"
      ],
      "execution_count": 14,
      "outputs": [
        {
          "output_type": "stream",
          "text": [
            "[[0.47613546 0.10083809 0.42302647]]\n",
            "[[0.03824788 0.02393877 0.93781334]]\n",
            "[[0.01130668 0.00770449 0.9809888 ]]\n"
          ],
          "name": "stdout"
        }
      ]
    }
  ]
}