{
  "nbformat": 4,
  "nbformat_minor": 0,
  "metadata": {
    "colab": {
      "name": "Tweet Emotion Recognition.ipynb",
      "provenance": [],
      "collapsed_sections": []
    },
    "kernelspec": {
      "name": "python3",
      "display_name": "Python 3"
    },
    "language_info": {
      "name": "python"
    },
    "accelerator": "GPU"
  },
  "cells": [
    {
      "cell_type": "code",
      "metadata": {
        "id": "nf5OaQxzXF0Q"
      },
      "source": [
        "!pip install nlp"
      ],
      "execution_count": null,
      "outputs": []
    },
    {
      "cell_type": "code",
      "metadata": {
        "id": "ZOIIUbteD5vh"
      },
      "source": [
        "import tensorflow as tf\n",
        "import numpy as np\n",
        "import matplotlib.pyplot as plt\n",
        "import random\n",
        "import nlp\n"
      ],
      "execution_count": 2,
      "outputs": []
    },
    {
      "cell_type": "markdown",
      "metadata": {
        "id": "EmPEZ0yRFzCO"
      },
      "source": [
        "#importing the data"
      ]
    },
    {
      "cell_type": "code",
      "metadata": {
        "id": "BIKv35JnF1aC"
      },
      "source": [
        "dataset = nlp.load_dataset('emotion')"
      ],
      "execution_count": null,
      "outputs": []
    },
    {
      "cell_type": "code",
      "metadata": {
        "colab": {
          "base_uri": "https://localhost:8080/"
        },
        "id": "-Fj6gqdKGEl2",
        "outputId": "9eecd4a7-d66b-4134-b440-3ddf82cafcf3"
      },
      "source": [
        "dataset"
      ],
      "execution_count": 5,
      "outputs": [
        {
          "output_type": "execute_result",
          "data": {
            "text/plain": [
              "{'test': Dataset(features: {'text': Value(dtype='string', id=None), 'label': Value(dtype='string', id=None)}, num_rows: 2000),\n",
              " 'train': Dataset(features: {'text': Value(dtype='string', id=None), 'label': Value(dtype='string', id=None)}, num_rows: 16000),\n",
              " 'validation': Dataset(features: {'text': Value(dtype='string', id=None), 'label': Value(dtype='string', id=None)}, num_rows: 2000)}"
            ]
          },
          "metadata": {
            "tags": []
          },
          "execution_count": 5
        }
      ]
    },
    {
      "cell_type": "code",
      "metadata": {
        "id": "KrM-WT2QuS3h"
      },
      "source": [
        "train = dataset['train']\n",
        "test = dataset['test']\n",
        "val = dataset['validation']"
      ],
      "execution_count": 6,
      "outputs": []
    },
    {
      "cell_type": "code",
      "metadata": {
        "id": "td626DSRu9np"
      },
      "source": [
        "def get_tweet(data):\n",
        "  tweets = [x['text'] for x in data]\n",
        "  labels = [x['label'] for x in data]\n",
        "  return tweets , labels"
      ],
      "execution_count": 7,
      "outputs": []
    },
    {
      "cell_type": "code",
      "metadata": {
        "id": "BSN1OCsqvQH-"
      },
      "source": [
        "tweets , labels = get_tweet(train)"
      ],
      "execution_count": 8,
      "outputs": []
    },
    {
      "cell_type": "code",
      "metadata": {
        "colab": {
          "base_uri": "https://localhost:8080/"
        },
        "id": "x-F-f_vmvX4a",
        "outputId": "b1bbe1ab-231b-42c7-ed60-d8ca55e024a7"
      },
      "source": [
        "tweets[0] , labels[0]"
      ],
      "execution_count": 9,
      "outputs": [
        {
          "output_type": "execute_result",
          "data": {
            "text/plain": [
              "('i didnt feel humiliated', 'sadness')"
            ]
          },
          "metadata": {
            "tags": []
          },
          "execution_count": 9
        }
      ]
    },
    {
      "cell_type": "markdown",
      "metadata": {
        "id": "r4niAnDhvrLg"
      },
      "source": [
        "#Tokenizer"
      ]
    },
    {
      "cell_type": "code",
      "metadata": {
        "id": "MPIZNlEDvtzj"
      },
      "source": [
        "from tensorflow.keras.preprocessing.text import Tokenizer\n",
        "\n",
        "tokenizer = Tokenizer(num_words = 10000 , oov_token = '<UNK>')\n",
        "tokenizer.fit_on_texts(tweets)"
      ],
      "execution_count": 10,
      "outputs": []
    },
    {
      "cell_type": "code",
      "metadata": {
        "colab": {
          "base_uri": "https://localhost:8080/"
        },
        "id": "0Jos0CsKyKcQ",
        "outputId": "c2d73596-14a6-4b37-eeab-631f123996d8"
      },
      "source": [
        "tokenizer.texts_to_sequences([tweets[0]])"
      ],
      "execution_count": 11,
      "outputs": [
        {
          "output_type": "execute_result",
          "data": {
            "text/plain": [
              "[[2, 139, 3, 679]]"
            ]
          },
          "metadata": {
            "tags": []
          },
          "execution_count": 11
        }
      ]
    },
    {
      "cell_type": "code",
      "metadata": {
        "colab": {
          "base_uri": "https://localhost:8080/",
          "height": 35
        },
        "id": "f8fpImXLyX1o",
        "outputId": "67efea16-2f23-44b9-cf1e-d20e87bd2b4c"
      },
      "source": [
        "tweets[0]"
      ],
      "execution_count": 12,
      "outputs": [
        {
          "output_type": "execute_result",
          "data": {
            "application/vnd.google.colaboratory.intrinsic+json": {
              "type": "string"
            },
            "text/plain": [
              "'i didnt feel humiliated'"
            ]
          },
          "metadata": {
            "tags": []
          },
          "execution_count": 12
        }
      ]
    },
    {
      "cell_type": "markdown",
      "metadata": {
        "id": "F3IoygtsysxX"
      },
      "source": [
        "#padding and truncating"
      ]
    },
    {
      "cell_type": "code",
      "metadata": {
        "colab": {
          "base_uri": "https://localhost:8080/",
          "height": 265
        },
        "id": "rrAHQxzSywQX",
        "outputId": "a19fe3a9-385a-4653-f903-f9cc6ac6055d"
      },
      "source": [
        "lengths = [len(tweet.split(' ')) for tweet in tweets]\n",
        "plt.hist(lengths)\n",
        "plt.show()"
      ],
      "execution_count": 13,
      "outputs": [
        {
          "output_type": "display_data",
          "data": {
            "image/png": "[encoded data removed]",
            "text/plain": [
              "<Figure size 432x288 with 1 Axes>"
            ]
          },
          "metadata": {
            "tags": [],
            "needs_background": "light"
          }
        }
      ]
    },
    {
      "cell_type": "code",
      "metadata": {
        "id": "a8L_L1C0z749"
      },
      "source": [
        "from tensorflow.keras.preprocessing.sequence import pad_sequences\n",
        "maxlen = 50\n",
        "\n",
        "def get_sequences(tokenizer , tweets):\n",
        "  sequences = tokenizer.texts_to_sequences(tweets)\n",
        "  padded = pad_sequences(sequences , truncating = 'post' ,\n",
        "                         padding = 'post' ,\n",
        "                         maxlen = maxlen)\n",
        "  return padded"
      ],
      "execution_count": 14,
      "outputs": []
    },
    {
      "cell_type": "code",
      "metadata": {
        "id": "5AjeSwGH1Yjv"
      },
      "source": [
        "padded_train_seq = get_sequences(tokenizer , tweets)"
      ],
      "execution_count": 15,
      "outputs": []
    },
    {
      "cell_type": "code",
      "metadata": {
        "colab": {
          "base_uri": "https://localhost:8080/"
        },
        "id": "GR-vfzUL1_Fo",
        "outputId": "5f8fcd37-768a-4dbd-9bfd-3a5740976f84"
      },
      "source": [
        "print('the tweet is : ' , tweets[0])\n",
        "print()\n",
        "print('after tokenizing and make it seq : ' ,tokenizer.texts_to_sequences([tweets[0]]))\n",
        "print()\n",
        "print('after padding : ' ,padded_train_seq[0])"
      ],
      "execution_count": 16,
      "outputs": [
        {
          "output_type": "stream",
          "text": [
            "the tweet is :  i didnt feel humiliated\n",
            "\n",
            "after tokenizing and make it seq :  [[2, 139, 3, 679]]\n",
            "\n",
            "after padding :  [  2 139   3 679   0   0   0   0   0   0   0   0   0   0   0   0   0   0\n",
            "   0   0   0   0   0   0   0   0   0   0   0   0   0   0   0   0   0   0\n",
            "   0   0   0   0   0   0   0   0   0   0   0   0   0   0]\n"
          ],
          "name": "stdout"
        }
      ]
    },
    {
      "cell_type": "markdown",
      "metadata": {
        "id": "z2AI8Fp222Vn"
      },
      "source": [
        "#preparing the classes"
      ]
    },
    {
      "cell_type": "code",
      "metadata": {
        "colab": {
          "base_uri": "https://localhost:8080/"
        },
        "id": "EmvlNgmb24km",
        "outputId": "e643fca1-ff06-4e7e-8be7-72647beae2db"
      },
      "source": [
        "classes = set(labels)\n",
        "print(classes)"
      ],
      "execution_count": 17,
      "outputs": [
        {
          "output_type": "stream",
          "text": [
            "{'surprise', 'joy', 'sadness', 'anger', 'fear', 'love'}\n"
          ],
          "name": "stdout"
        }
      ]
    },
    {
      "cell_type": "code",
      "metadata": {
        "colab": {
          "base_uri": "https://localhost:8080/",
          "height": 282
        },
        "id": "GTZwauxP3NFD",
        "outputId": "196dddb2-c8bb-4936-c954-9b11f6e1b518"
      },
      "source": [
        "plt.hist(labels , bins = 11)\n",
        "plt.show"
      ],
      "execution_count": 18,
      "outputs": [
        {
          "output_type": "execute_result",
          "data": {
            "text/plain": [
              "<function matplotlib.pyplot.show>"
            ]
          },
          "metadata": {
            "tags": []
          },
          "execution_count": 18
        },
        {
          "output_type": "display_data",
          "data": {
            "image/png": "[encoded data removed]",
            "text/plain": [
              "<Figure size 432x288 with 1 Axes>"
            ]
          },
          "metadata": {
            "tags": [],
            "needs_background": "light"
          }
        }
      ]
    },
    {
      "cell_type": "code",
      "metadata": {
        "id": "iBURGgvo3dmN"
      },
      "source": [
        ""
      ],
      "execution_count": 18,
      "outputs": []
    },
    {
      "cell_type": "markdown",
      "metadata": {
        "id": "wcxhKXKD3o8d"
      },
      "source": [
        "there is inbalance in our classes but here we are going to continue with out doing any thing in this regard"
      ]
    },
    {
      "cell_type": "code",
      "metadata": {
        "id": "l7x2PczT35Js"
      },
      "source": [
        "class_to_index = dict((c , i) for i , c in enumerate(classes))\n",
        "index_to_class = dict((i , c) for c , i in class_to_index.items())"
      ],
      "execution_count": 19,
      "outputs": []
    },
    {
      "cell_type": "code",
      "metadata": {
        "colab": {
          "base_uri": "https://localhost:8080/"
        },
        "id": "wwzMVHY-49x6",
        "outputId": "25b23485-f57c-4902-c632-3a9352545a0d"
      },
      "source": [
        "print(class_to_index)"
      ],
      "execution_count": 20,
      "outputs": [
        {
          "output_type": "stream",
          "text": [
            "{'surprise': 0, 'joy': 1, 'sadness': 2, 'anger': 3, 'fear': 4, 'love': 5}\n"
          ],
          "name": "stdout"
        }
      ]
    },
    {
      "cell_type": "code",
      "metadata": {
        "colab": {
          "base_uri": "https://localhost:8080/"
        },
        "id": "QEvLtLbv5VPX",
        "outputId": "a4d57e72-c071-4ffc-d0c1-ce996a56762f"
      },
      "source": [
        "print(index_to_class)"
      ],
      "execution_count": 21,
      "outputs": [
        {
          "output_type": "stream",
          "text": [
            "{0: 'surprise', 1: 'joy', 2: 'sadness', 3: 'anger', 4: 'fear', 5: 'love'}\n"
          ],
          "name": "stdout"
        }
      ]
    },
    {
      "cell_type": "code",
      "metadata": {
        "id": "uaRIkNs15XWM"
      },
      "source": [
        "names_to_ids = lambda labels : np.array([class_to_index.get(x) for x in labels])"
      ],
      "execution_count": 22,
      "outputs": []
    },
    {
      "cell_type": "code",
      "metadata": {
        "colab": {
          "base_uri": "https://localhost:8080/"
        },
        "id": "8cVVqK3R7Ajh",
        "outputId": "89409a4a-59ac-4fd7-cc20-30e4e2967650"
      },
      "source": [
        "train_labels = names_to_ids(labels)\n",
        "train_labels[0]"
      ],
      "execution_count": 23,
      "outputs": [
        {
          "output_type": "execute_result",
          "data": {
            "text/plain": [
              "2"
            ]
          },
          "metadata": {
            "tags": []
          },
          "execution_count": 23
        }
      ]
    },
    {
      "cell_type": "markdown",
      "metadata": {
        "id": "vxzhUA5a8KQ_"
      },
      "source": [
        "#building the model"
      ]
    },
    {
      "cell_type": "code",
      "metadata": {
        "id": "-27wQDKR8L3n"
      },
      "source": [
        "model = tf.keras.models.Sequential([\n",
        "                           tf.keras.layers.Embedding(10000 , 16 , input_length = maxlen),\n",
        "                           tf.keras.layers.Bidirectional(tf.keras.layers.LSTM(20 , return_sequences=True)),\n",
        "                           tf.keras.layers.Bidirectional(tf.keras.layers.LSTM(20)),\n",
        "                           tf.keras.layers.Dense(6 , activation='softmax')\n",
        "])\n",
        "\n",
        "model.compile(\n",
        "    optimizer = 'adam',\n",
        "    loss = 'sparse_categorical_crossentropy',\n",
        "    metrics = ['accuracy']\n",
        ")"
      ],
      "execution_count": 24,
      "outputs": []
    },
    {
      "cell_type": "code",
      "metadata": {
        "colab": {
          "base_uri": "https://localhost:8080/"
        },
        "id": "Z9Rxph06WIFR",
        "outputId": "cbd5e72b-a925-434a-8252-bf6e8ba8297c"
      },
      "source": [
        "model.summary()"
      ],
      "execution_count": 25,
      "outputs": [
        {
          "output_type": "stream",
          "text": [
            "Model: \"sequential\"\n",
            "_________________________________________________________________\n",
            "Layer (type)                 Output Shape              Param #   \n",
            "=================================================================\n",
            "embedding (Embedding)        (None, 50, 16)            160000    \n",
            "_________________________________________________________________\n",
            "bidirectional (Bidirectional (None, 50, 40)            5920      \n",
            "_________________________________________________________________\n",
            "bidirectional_1 (Bidirection (None, 40)                9760      \n",
            "_________________________________________________________________\n",
            "dense (Dense)                (None, 6)                 246       \n",
            "=================================================================\n",
            "Total params: 175,926\n",
            "Trainable params: 175,926\n",
            "Non-trainable params: 0\n",
            "_________________________________________________________________\n"
          ],
          "name": "stdout"
        }
      ]
    },
    {
      "cell_type": "markdown",
      "metadata": {
        "id": "Xs-H-fNTWtGr"
      },
      "source": [
        "#training the model"
      ]
    },
    {
      "cell_type": "markdown",
      "metadata": {
        "id": "Q2ZxPSJXXnkN"
      },
      "source": [
        "### preparing the validation data"
      ]
    },
    {
      "cell_type": "code",
      "metadata": {
        "id": "Yj6aTvOGXo_1"
      },
      "source": [
        "val_tweets , V_labels = get_tweet(val)\n",
        "val_padded = get_sequences(tokenizer , val_tweets)\n",
        "val_labels = names_to_ids(V_labels)"
      ],
      "execution_count": 26,
      "outputs": []
    },
    {
      "cell_type": "code",
      "metadata": {
        "colab": {
          "base_uri": "https://localhost:8080/"
        },
        "id": "11VxI4YxYRq-",
        "outputId": "0c1eb0e4-f127-467c-ceab-cb052c218dc1"
      },
      "source": [
        "val_tweets[0] , val_labels[0]"
      ],
      "execution_count": 27,
      "outputs": [
        {
          "output_type": "execute_result",
          "data": {
            "text/plain": [
              "('im feeling quite sad and sorry for myself but ill snap out of it soon', 2)"
            ]
          },
          "metadata": {
            "tags": []
          },
          "execution_count": 27
        }
      ]
    },
    {
      "cell_type": "code",
      "metadata": {
        "colab": {
          "base_uri": "https://localhost:8080/"
        },
        "id": "CzJGtT0RYuxL",
        "outputId": "a7f6de12-3ebd-4a73-e77d-93efdb1236e0"
      },
      "source": [
        "h = model.fit(padded_train_seq , train_labels ,\n",
        "              validation_data=(val_padded , val_labels),\n",
        "              epochs = 20,\n",
        "              callbacks = [\n",
        "                           tf.keras.callbacks.EarlyStopping(monitor = 'val_accuracy' , patience=2)\n",
        "              ])"
      ],
      "execution_count": 28,
      "outputs": [
        {
          "output_type": "stream",
          "text": [
            "Epoch 1/20\n",
            "500/500 [==============================] - 43s 17ms/step - loss: 1.5555 - accuracy: 0.3326 - val_loss: 1.1463 - val_accuracy: 0.5510\n",
            "Epoch 2/20\n",
            "500/500 [==============================] - 7s 14ms/step - loss: 0.8761 - accuracy: 0.6493 - val_loss: 0.5993 - val_accuracy: 0.8070\n",
            "Epoch 3/20\n",
            "500/500 [==============================] - 7s 14ms/step - loss: 0.4158 - accuracy: 0.8624 - val_loss: 0.5000 - val_accuracy: 0.8375\n",
            "Epoch 4/20\n",
            "500/500 [==============================] - 7s 14ms/step - loss: 0.2708 - accuracy: 0.9104 - val_loss: 0.4379 - val_accuracy: 0.8690\n",
            "Epoch 5/20\n",
            "500/500 [==============================] - 7s 14ms/step - loss: 0.1845 - accuracy: 0.9431 - val_loss: 0.4132 - val_accuracy: 0.8785\n",
            "Epoch 6/20\n",
            "500/500 [==============================] - 7s 14ms/step - loss: 0.1315 - accuracy: 0.9594 - val_loss: 0.3938 - val_accuracy: 0.8815\n",
            "Epoch 7/20\n",
            "500/500 [==============================] - 7s 14ms/step - loss: 0.1079 - accuracy: 0.9674 - val_loss: 0.3976 - val_accuracy: 0.8850\n",
            "Epoch 8/20\n",
            "500/500 [==============================] - 7s 14ms/step - loss: 0.0763 - accuracy: 0.9747 - val_loss: 0.4442 - val_accuracy: 0.8845\n",
            "Epoch 9/20\n",
            "500/500 [==============================] - 7s 14ms/step - loss: 0.0709 - accuracy: 0.9781 - val_loss: 0.4561 - val_accuracy: 0.8895\n",
            "Epoch 10/20\n",
            "500/500 [==============================] - 7s 14ms/step - loss: 0.0659 - accuracy: 0.9794 - val_loss: 0.4532 - val_accuracy: 0.8880\n",
            "Epoch 11/20\n",
            "500/500 [==============================] - 7s 14ms/step - loss: 0.0619 - accuracy: 0.9779 - val_loss: 0.4104 - val_accuracy: 0.8850\n"
          ],
          "name": "stdout"
        }
      ]
    },
    {
      "cell_type": "markdown",
      "metadata": {
        "id": "SPplUCJQay9P"
      },
      "source": [
        "# evaluating the model"
      ]
    },
    {
      "cell_type": "code",
      "metadata": {
        "id": "VkQ_RsvEa1C_"
      },
      "source": [
        "\n",
        "def show_history(h):\n",
        "    epochs_trained = len(h.history['loss'])\n",
        "    plt.figure(figsize=(16, 6))\n",
        "\n",
        "    plt.subplot(1, 2, 1)\n",
        "    plt.plot(range(0, epochs_trained), h.history.get('accuracy'), label='Training')\n",
        "    plt.plot(range(0, epochs_trained), h.history.get('val_accuracy'), label='Validation')\n",
        "    plt.ylim([0., 1.])\n",
        "    plt.xlabel('Epochs')\n",
        "    plt.ylabel('Accuracy')\n",
        "    plt.legend()\n",
        "\n",
        "    plt.subplot(1, 2, 2)\n",
        "    plt.plot(range(0, epochs_trained), h.history.get('loss'), label='Training')\n",
        "    plt.plot(range(0, epochs_trained), h.history.get('val_loss'), label='Validation')\n",
        "    plt.xlabel('Epochs')\n",
        "    plt.ylabel('Loss')\n",
        "    plt.legend()\n",
        "    plt.show()\n",
        "\n",
        "    \n",
        "def show_confusion_matrix(y_true, y_pred, classes):\n",
        "    from sklearn.metrics import confusion_matrix\n",
        "    \n",
        "    cm = confusion_matrix(y_true, y_pred, normalize='true')\n",
        "\n",
        "    plt.figure(figsize=(8, 8))\n",
        "    sp = plt.subplot(1, 1, 1)\n",
        "    ctx = sp.matshow(cm)\n",
        "    plt.xticks(list(range(0, 6)), labels=classes)\n",
        "    plt.yticks(list(range(0, 6)), labels=classes)\n",
        "    plt.colorbar(ctx)\n",
        "    plt.show()\n"
      ],
      "execution_count": 29,
      "outputs": []
    },
    {
      "cell_type": "code",
      "metadata": {
        "colab": {
          "base_uri": "https://localhost:8080/",
          "height": 392
        },
        "id": "i_u6UGdGkUYi",
        "outputId": "e9408b48-d7d2-4874-d67d-96f73cc9d3f6"
      },
      "source": [
        "show_history(h)"
      ],
      "execution_count": 30,
      "outputs": [
        {
          "output_type": "display_data",
          "data": {
            "image/png": "[encoded data removed]",
            "text/plain": [
              "<Figure size 1152x432 with 2 Axes>"
            ]
          },
          "metadata": {
            "tags": [],
            "needs_background": "light"
          }
        }
      ]
    },
    {
      "cell_type": "code",
      "metadata": {
        "id": "ohgjXGvwkdWl"
      },
      "source": [
        "test_tweets , test_labels = get_tweet(test)\n",
        "padded_test_tweets = get_sequences(tokenizer , test_tweets)\n",
        "test_labels = names_to_ids(test_labels)"
      ],
      "execution_count": 32,
      "outputs": []
    },
    {
      "cell_type": "code",
      "metadata": {
        "colab": {
          "base_uri": "https://localhost:8080/"
        },
        "id": "kX4Na8HFlCGE",
        "outputId": "bb7b9565-fec0-4a4a-e62e-5e5eea613903"
      },
      "source": [
        "_  = model.evaluate(padded_test_tweets , test_labels)"
      ],
      "execution_count": 33,
      "outputs": [
        {
          "output_type": "stream",
          "text": [
            "63/63 [==============================] - 0s 7ms/step - loss: 0.4077 - accuracy: 0.8815\n"
          ],
          "name": "stdout"
        }
      ]
    },
    {
      "cell_type": "code",
      "metadata": {
        "colab": {
          "base_uri": "https://localhost:8080/"
        },
        "id": "Q3yxPpynlZUa",
        "outputId": "c355c97c-b2ef-46f4-f842-5945709a9555"
      },
      "source": [
        "i = random.randint(0 , len(test_labels)-1)\n",
        "\n",
        "print('sentence : ' , test_tweets[i])\n",
        "print('emotion : ' , index_to_class[test_labels[i]])\n",
        "\n",
        "p = model.predict(np.expand_dims(padded_test_tweets[i] , axis=0))[0]\n",
        "pred_class = index_to_class[np.argmax(p)]\n",
        "print('prediction : ' , pred_class)"
      ],
      "execution_count": 84,
      "outputs": [
        {
          "output_type": "stream",
          "text": [
            "sentence :  i dont know how to deal with this i feel like its becoming apart if who i am im afraid that im going to associate it with regular things so that i will never forget it\n",
            "emotion :  fear\n",
            "prediction :  fear\n"
          ],
          "name": "stdout"
        }
      ]
    },
    {
      "cell_type": "code",
      "metadata": {
        "colab": {
          "base_uri": "https://localhost:8080/"
        },
        "id": "kKo24xddp8uz",
        "outputId": "cd620a5a-8eee-4472-a47f-8cd741660ebc"
      },
      "source": [
        "preds = model.predict_classes(padded_test_tweets)"
      ],
      "execution_count": 83,
      "outputs": [
        {
          "output_type": "stream",
          "text": [
            "/usr/local/lib/python3.7/dist-packages/tensorflow/python/keras/engine/sequential.py:450: UserWarning: `model.predict_classes()` is deprecated and will be removed after 2021-01-01. Please use instead:* `np.argmax(model.predict(x), axis=-1)`,   if your model does multi-class classification   (e.g. if it uses a `softmax` last-layer activation).* `(model.predict(x) > 0.5).astype(\"int32\")`,   if your model does binary classification   (e.g. if it uses a `sigmoid` last-layer activation).\n",
            "  warnings.warn('`model.predict_classes()` is deprecated and '\n"
          ],
          "name": "stderr"
        }
      ]
    },
    {
      "cell_type": "code",
      "metadata": {
        "colab": {
          "base_uri": "https://localhost:8080/",
          "height": 472
        },
        "id": "Zn1DReKOqdM2",
        "outputId": "c23f291a-d640-4c7e-d798-3bc52e0aa56a"
      },
      "source": [
        "show_confusion_matrix(preds , test_labels , list(classes))"
      ],
      "execution_count": 40,
      "outputs": [
        {
          "output_type": "display_data",
          "data": {
            "image/png": "[encoded data removed]",
            "text/plain": [
              "<Figure size 576x576 with 2 Axes>"
            ]
          },
          "metadata": {
            "tags": [],
            "needs_background": "light"
          }
        }
      ]
    },
    {
      "cell_type": "markdown",
      "metadata": {
        "id": "QMxvl6b6q7la"
      },
      "source": [
        "###### it is obvious that there are misclassification in 'love' and 'suprise' emotions"
      ]
    },
    {
      "cell_type": "code",
      "metadata": {
        "id": "EUsAuIaerVfK"
      },
      "source": [
        "\n",
        "# twts = [my_tweet , my_tweet_1]\n",
        "\n",
        "# def prepare_and_pred(tweet):\n",
        "#   pad = get_sequences(tokenizer,tweet)\n",
        "#   pred = model.predict(pad)[0]\n",
        "#   pred_class = index_to_class[np.argmax(pred)]\n",
        "#   print(pred_class)\n"
      ],
      "execution_count": null,
      "outputs": []
    },
    {
      "cell_type": "code",
      "metadata": {
        "id": "95L7yDZ5t3f3"
      },
      "source": [
        ""
      ],
      "execution_count": null,
      "outputs": []
    }
  ]
}