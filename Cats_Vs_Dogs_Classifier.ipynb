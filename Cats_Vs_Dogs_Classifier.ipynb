{
  "nbformat": 4,
  "nbformat_minor": 0,
  "metadata": {
    "accelerator": "TPU",
    "colab": {
      "name": "Cats Vs Dogs Classifier.ipynb",
      "provenance": [],
      "collapsed_sections": []
    },
    "kernelspec": {
      "display_name": "Python 3",
      "name": "python3"
    },
    "language_info": {
      "name": "python"
    }
  },
  "cells": [
    {
      "cell_type": "code",
      "metadata": {
        "colab": {
          "base_uri": "https://localhost:8080/",
          "height": 267
        },
        "id": "XmoO62czzr4H",
        "outputId": "8f9cb139-f49e-4b9c-e455-c0b17a4bc7b9"
      },
      "source": [
        "import numpy as np\n",
        "import matplotlib.pyplot as plt\n",
        "import os \n",
        "import cv2\n",
        "import random\n",
        "Data_Dir = '/content/drive/MyDrive/MyShares/CatsandDogs/training_set'\n",
        "Categories = ['dogs' , 'cats']\n",
        "\n",
        "for category in Categories:\n",
        "  path = os.path.join(Data_Dir , category)\n",
        "  for image in os.listdir(path):\n",
        "    image_array = cv2.imread(os.path.join(path , image) , cv2.IMREAD_GRAYSCALE)\n",
        "    new_array = cv2.resize(image_array , (image_size , image_size))\n",
        "    plt.imshow(new_array , cmap = 'gray')\n",
        "    plt.show()\n",
        "    break\n",
        "  break\n",
        "\n"
      ],
      "execution_count": 17,
      "outputs": [
        {
          "output_type": "display_data",
          "data": {
            "image/png": "[encoded data removed]",
            "text/plain": [
              "<Figure size 432x288 with 1 Axes>"
            ]
          },
          "metadata": {
            "tags": [],
            "needs_background": "light"
          }
        }
      ]
    },
    {
      "cell_type": "code",
      "metadata": {
        "colab": {
          "base_uri": "https://localhost:8080/"
        },
        "id": "20DbpELyKDPQ",
        "outputId": "8bcbcc49-73d7-45ff-e462-adfa6b2bbab0"
      },
      "source": [
        ""
      ],
      "execution_count": 2,
      "outputs": [
        {
          "output_type": "stream",
          "text": [
            "Drive already mounted at /content/drive; to attempt to forcibly remount, call drive.mount(\"/content/drive\", force_remount=True).\n"
          ],
          "name": "stdout"
        }
      ]
    },
    {
      "cell_type": "code",
      "metadata": {
        "colab": {
          "base_uri": "https://localhost:8080/"
        },
        "id": "JC7ohsVf4OB2",
        "outputId": "f2a4ee21-fe5a-4a7a-b4fa-6152fa325e6a"
      },
      "source": [
        "print(image_array)"
      ],
      "execution_count": 18,
      "outputs": [
        {
          "output_type": "stream",
          "text": [
            "[[255 255 255 ... 255 255 255]\n",
            " [255 255 255 ... 255 255 255]\n",
            " [255 255 255 ... 255 255 255]\n",
            " ...\n",
            " [255 255 255 ... 255 255 255]\n",
            " [255 255 255 ... 255 255 255]\n",
            " [255 255 255 ... 255 255 255]]\n"
          ],
          "name": "stdout"
        }
      ]
    },
    {
      "cell_type": "code",
      "metadata": {
        "colab": {
          "base_uri": "https://localhost:8080/",
          "height": 267
        },
        "id": "55FupW934VO7",
        "outputId": "e981f3b7-fa85-4a89-906e-5f8050f8b7a8"
      },
      "source": [
        "image_size = 50\n",
        "\n",
        "new_array = cv2.resize(image_array , (image_size , image_size))\n",
        "plt.imshow(new_array , cmap = 'gray')\n",
        "plt.show()"
      ],
      "execution_count": 19,
      "outputs": [
        {
          "output_type": "display_data",
          "data": {
            "image/png": "[encoded data removed]",
            "text/plain": [
              "<Figure size 432x288 with 1 Axes>"
            ]
          },
          "metadata": {
            "tags": [],
            "needs_background": "light"
          }
        }
      ]
    },
    {
      "cell_type": "code",
      "metadata": {
        "id": "2_joWcVo5LId"
      },
      "source": [
        "training_data = []\n",
        "\n",
        "def creat_training_data():\n",
        "  for category in Categories:\n",
        "    path = os.path.join(Data_Dir , category)\n",
        "    class_num = Categories.index(category)\n",
        "    for image in os.listdir(path):\n",
        "      image_array = cv2.imread(os.path.join(path , image) , cv2.IMREAD_GRAYSCALE)\n",
        "      new_array = cv2.resize(image_array , (image_size , image_size))\n",
        "      training_data.append([new_array , class_num])\n",
        "\n",
        "creat_training_data()"
      ],
      "execution_count": 20,
      "outputs": []
    },
    {
      "cell_type": "code",
      "metadata": {
        "colab": {
          "base_uri": "https://localhost:8080/"
        },
        "id": "Kdu5XgrP6rje",
        "outputId": "9a3d6216-e3bc-4647-ab22-d9ce12d85751"
      },
      "source": [
        "print(len(training_data))"
      ],
      "execution_count": 21,
      "outputs": [
        {
          "output_type": "stream",
          "text": [
            "8000\n"
          ],
          "name": "stdout"
        }
      ]
    },
    {
      "cell_type": "code",
      "metadata": {
        "id": "tqpNMMozEqWp"
      },
      "source": [
        "random.shuffle(training_data)"
      ],
      "execution_count": 22,
      "outputs": []
    },
    {
      "cell_type": "code",
      "metadata": {
        "id": "ZvoSfR6qS7Pf"
      },
      "source": [
        "features = []\n",
        "labels = []"
      ],
      "execution_count": 39,
      "outputs": []
    },
    {
      "cell_type": "code",
      "metadata": {
        "id": "gBXg9jLqTE8L"
      },
      "source": [
        "for feature , label in training_data:\n",
        "  features.append(feature)\n",
        "  labels.append(label)\n",
        "\n",
        "features = np.array(features).reshape(-1 , image_size , image_size , 1)\n",
        "labels = np.array(labels)"
      ],
      "execution_count": 40,
      "outputs": []
    },
    {
      "cell_type": "code",
      "metadata": {
        "colab": {
          "base_uri": "https://localhost:8080/"
        },
        "id": "nUxDPm8xUgNt",
        "outputId": "b535b322-d09b-498f-cc52-558a04ccf3c9"
      },
      "source": [
        "features[1].shape"
      ],
      "execution_count": 41,
      "outputs": [
        {
          "output_type": "execute_result",
          "data": {
            "text/plain": [
              "(50, 50, 1)"
            ]
          },
          "metadata": {
            "tags": []
          },
          "execution_count": 41
        }
      ]
    },
    {
      "cell_type": "code",
      "metadata": {
        "colab": {
          "base_uri": "https://localhost:8080/"
        },
        "id": "ljXYKwcnU-1n",
        "outputId": "2afb8da3-ce59-42b0-dad9-c5df28f240ee"
      },
      "source": [
        "features.shape"
      ],
      "execution_count": 42,
      "outputs": [
        {
          "output_type": "execute_result",
          "data": {
            "text/plain": [
              "(8000, 50, 50, 1)"
            ]
          },
          "metadata": {
            "tags": []
          },
          "execution_count": 42
        }
      ]
    },
    {
      "cell_type": "code",
      "metadata": {
        "id": "fM_ImcNVZcvG"
      },
      "source": [
        "features = features/255."
      ],
      "execution_count": 43,
      "outputs": []
    },
    {
      "cell_type": "code",
      "metadata": {
        "id": "ExlDNsVWVBHS"
      },
      "source": [
        "import tensorflow as tf \n",
        "from tensorflow.keras.models import Sequential\n",
        "\n",
        "\n",
        "class mycallback(tf.keras.callbacks.Callback):\n",
        "  def on_epoch_end(self , epochs , logs={}):\n",
        "    if (logs.get('accuracy')> 0.95):\n",
        "      print('desired accuracy reached, the training stopped')\n",
        "      model.stop_training = True\n",
        "\n",
        "callback = mycallback()\n",
        "\n",
        "\n",
        "\n",
        "model = Sequential([\n",
        "                tf.keras.layers.Conv2D(64 , (3,3) , activation = 'relu' , input_shape = features.shape[1:]),\n",
        "                tf.keras.layers.MaxPooling2D(2,2),\n",
        "                tf.keras.layers.Conv2D(32 , (3,3) , activation = 'relu'),\n",
        "                tf.keras.layers.MaxPooling2D(2,2),\n",
        "                tf.keras.layers.Flatten(),\n",
        "                tf.keras.layers.Dense(32 , activation = 'relu'),\n",
        "                tf.keras.layers.Dense(1 , activation = 'sigmoid')\n",
        "\n",
        "])\n",
        "\n",
        "model.compile(optimizer = 'adam' , loss = 'binary_crossentropy' , metrics = ['accuracy'] )"
      ],
      "execution_count": 54,
      "outputs": []
    },
    {
      "cell_type": "code",
      "metadata": {
        "colab": {
          "base_uri": "https://localhost:8080/"
        },
        "id": "yg1BtUJ0Yf73",
        "outputId": "26c12306-0e7b-4dd0-f27b-f3349f272c29"
      },
      "source": [
        "history = model.fit(features , labels , epochs = 15 , batch_size=32 , validation_split=0.2 , callbacks=[callback])"
      ],
      "execution_count": 55,
      "outputs": [
        {
          "output_type": "stream",
          "text": [
            "Epoch 1/15\n",
            "200/200 [==============================] - 25s 124ms/step - loss: 0.6947 - accuracy: 0.5064 - val_loss: 0.6806 - val_accuracy: 0.5694\n",
            "Epoch 2/15\n",
            "200/200 [==============================] - 25s 123ms/step - loss: 0.6552 - accuracy: 0.6176 - val_loss: 0.6461 - val_accuracy: 0.6288\n",
            "Epoch 3/15\n",
            "200/200 [==============================] - 25s 123ms/step - loss: 0.6105 - accuracy: 0.6617 - val_loss: 0.6308 - val_accuracy: 0.6494\n",
            "Epoch 4/15\n",
            "200/200 [==============================] - 25s 124ms/step - loss: 0.5479 - accuracy: 0.7329 - val_loss: 0.6012 - val_accuracy: 0.6906\n",
            "Epoch 5/15\n",
            "200/200 [==============================] - 25s 124ms/step - loss: 0.5033 - accuracy: 0.7495 - val_loss: 0.5927 - val_accuracy: 0.6919\n",
            "Epoch 6/15\n",
            "200/200 [==============================] - 25s 123ms/step - loss: 0.4792 - accuracy: 0.7706 - val_loss: 0.5970 - val_accuracy: 0.7044\n",
            "Epoch 7/15\n",
            "200/200 [==============================] - 25s 124ms/step - loss: 0.4543 - accuracy: 0.7859 - val_loss: 0.6299 - val_accuracy: 0.6925\n",
            "Epoch 8/15\n",
            "200/200 [==============================] - 25s 123ms/step - loss: 0.4171 - accuracy: 0.8101 - val_loss: 0.5865 - val_accuracy: 0.7006\n",
            "Epoch 9/15\n",
            "200/200 [==============================] - 25s 125ms/step - loss: 0.3855 - accuracy: 0.8259 - val_loss: 0.5954 - val_accuracy: 0.7150\n",
            "Epoch 10/15\n",
            "200/200 [==============================] - 25s 126ms/step - loss: 0.3637 - accuracy: 0.8388 - val_loss: 0.6298 - val_accuracy: 0.7050\n",
            "Epoch 11/15\n",
            "200/200 [==============================] - 25s 125ms/step - loss: 0.3234 - accuracy: 0.8593 - val_loss: 0.6616 - val_accuracy: 0.7106\n",
            "Epoch 12/15\n",
            "200/200 [==============================] - 25s 124ms/step - loss: 0.2845 - accuracy: 0.8794 - val_loss: 0.6826 - val_accuracy: 0.7156\n",
            "Epoch 13/15\n",
            "200/200 [==============================] - 25s 124ms/step - loss: 0.2556 - accuracy: 0.8998 - val_loss: 0.7438 - val_accuracy: 0.7081\n",
            "Epoch 14/15\n",
            "200/200 [==============================] - 25s 124ms/step - loss: 0.2230 - accuracy: 0.9094 - val_loss: 0.8006 - val_accuracy: 0.7019\n",
            "Epoch 15/15\n",
            "200/200 [==============================] - 25s 125ms/step - loss: 0.1883 - accuracy: 0.9289 - val_loss: 0.8096 - val_accuracy: 0.7031\n"
          ],
          "name": "stdout"
        }
      ]
    },
    {
      "cell_type": "code",
      "metadata": {
        "colab": {
          "base_uri": "https://localhost:8080/",
          "height": 298
        },
        "id": "FydCIgGgZDub",
        "outputId": "e310566e-34ce-4049-d7b4-7b91222ef414"
      },
      "source": [
        "import matplotlib.pyplot as plt\n",
        "acc = history.history['accuracy']\n",
        "val_acc = history.history['val_accuracy']\n",
        "loss = history.history['loss']\n",
        "val_loss = history.history['val_loss']\n",
        "\n",
        "epochs = range(len(acc))\n",
        "\n",
        "plt.plot(epochs, acc, 'r', label='Training accuracy')\n",
        "plt.plot(epochs, val_acc, 'b', label='Validation accuracy')\n",
        "plt.title('Training and validation accuracy')\n",
        "plt.legend(loc=0)\n",
        "plt.figure()\n",
        "\n",
        "\n",
        "plt.show()"
      ],
      "execution_count": 53,
      "outputs": [
        {
          "output_type": "display_data",
          "data": {
            "image/png": "[encoded data removed]",
            "text/plain": [
              "<Figure size 432x288 with 1 Axes>"
            ]
          },
          "metadata": {
            "tags": [],
            "needs_background": "light"
          }
        },
        {
          "output_type": "display_data",
          "data": {
            "text/plain": [
              "<Figure size 432x288 with 0 Axes>"
            ]
          },
          "metadata": {
            "tags": []
          }
        }
      ]
    },
    {
      "cell_type": "code",
      "metadata": {
        "colab": {
          "base_uri": "https://localhost:8080/"
        },
        "id": "vn2jyTAdhwSr",
        "outputId": "8f53d62d-071e-4db6-976e-15cbb9e608eb"
      },
      "source": [
        "def prepare_image(filepath):\n",
        "  img_array = cv2.imread(filepath , cv2.IMREAD_GRAYSCALE)\n",
        "  new_array = cv2.resize(image_array , (image_size, image_size))\n",
        "  return  new_array.reshape(-1 , image_size , image_size , 1)\n",
        "\n",
        "img_1 = '/content/drive/MyDrive/MyShares/CatsandDogs/105992231-1561667465295gettyimages-521697453.jpeg'\n",
        "img_2 = '/content/drive/MyDrive/MyShares/CatsandDogs/download.jpg'\n",
        "\n",
        "image1= prepare_image(img_1)\n",
        "\n",
        "image2 = prepare_image(img_2)\n",
        "\n",
        "for image in [image1 , image2]:\n",
        "\n",
        "  prediction = model.predict(image)\n",
        "  print(prediction)\n",
        "  print(Categories[int(prediction[0][0])])\n",
        "\n"
      ],
      "execution_count": 79,
      "outputs": [
        {
          "output_type": "stream",
          "text": [
            "[[0.]]\n",
            "dogs\n",
            "[[0.]]\n",
            "dogs\n"
          ],
          "name": "stdout"
        }
      ]
    },
    {
      "cell_type": "markdown",
      "metadata": {
        "id": "nou8EgoVtiO-"
      },
      "source": [
        "### ofcourse the accuracy is not that much good it needs more tweaking in parameters as the loss and accuracy of validation must be better "
      ]
    },
    {
      "cell_type": "markdown",
      "metadata": {
        "id": "W04WC0dEtNfV"
      },
      "source": [
        ""
      ]
    }
  ]
}